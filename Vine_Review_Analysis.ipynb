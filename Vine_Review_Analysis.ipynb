{
  "nbformat": 4,
  "nbformat_minor": 0,
  "metadata": {
    "colab": {
      "name": "Vine_Review_Analysis.ipynb",
      "provenance": [],
      "collapsed_sections": []
    },
    "kernelspec": {
      "name": "python3",
      "display_name": "Python 3"
    },
    "language_info": {
      "name": "python"
    }
  },
  "cells": [
    {
      "cell_type": "code",
      "source": [
        "import os\n",
        "# Find the latest version of spark 3.0 from http://www.apache.org/dist/spark/ and enter as the spark version\n",
        "# For example:\n",
        "# spark_version = 'spark-3.0.3'\n",
        "spark_version = 'spark-3.2.1'\n",
        "os.environ['SPARK_VERSION']=spark_version\n",
        "\n",
        "# Install Spark and Java\n",
        "!apt-get update\n",
        "!apt-get install openjdk-11-jdk-headless -qq > /dev/null\n",
        "!wget -q http://www.apache.org/dist/spark/$SPARK_VERSION/$SPARK_VERSION-bin-hadoop2.7.tgz\n",
        "!tar xf $SPARK_VERSION-bin-hadoop2.7.tgz\n",
        "!pip install -q findspark\n",
        "\n",
        "# Set Environment Variables\n",
        "import os\n",
        "os.environ[\"JAVA_HOME\"] = \"/usr/lib/jvm/java-11-openjdk-amd64\"\n",
        "os.environ[\"SPARK_HOME\"] = f\"/content/{spark_version}-bin-hadoop2.7\"\n",
        "\n",
        "# Start a SparkSession\n",
        "import findspark\n",
        "findspark.init()"
      ],
      "metadata": {
        "colab": {
          "base_uri": "https://localhost:8080/"
        },
        "id": "DeM8uCkLgP9m",
        "outputId": "e0cac9ed-dfde-4dcc-96f4-36a80cfc292f"
      },
      "execution_count": 1,
      "outputs": [
        {
          "output_type": "stream",
          "name": "stdout",
          "text": [
            "\r0% [Working]\r            \rHit:1 https://developer.download.nvidia.com/compute/cuda/repos/ubuntu1804/x86_64  InRelease\n",
            "\r0% [Connecting to archive.ubuntu.com (185.125.190.36)] [Connecting to security.\r                                                                               \rIgn:2 https://developer.download.nvidia.com/compute/machine-learning/repos/ubuntu1804/x86_64  InRelease\n",
            "Hit:3 https://developer.download.nvidia.com/compute/machine-learning/repos/ubuntu1804/x86_64  Release\n",
            "Hit:4 https://cloud.r-project.org/bin/linux/ubuntu bionic-cran40/ InRelease\n",
            "Get:5 http://security.ubuntu.com/ubuntu bionic-security InRelease [88.7 kB]\n",
            "Hit:6 http://archive.ubuntu.com/ubuntu bionic InRelease\n",
            "Hit:7 http://ppa.launchpad.net/c2d4u.team/c2d4u4.0+/ubuntu bionic InRelease\n",
            "Get:9 http://archive.ubuntu.com/ubuntu bionic-updates InRelease [88.7 kB]\n",
            "Hit:10 http://ppa.launchpad.net/cran/libgit2/ubuntu bionic InRelease\n",
            "Hit:11 http://ppa.launchpad.net/deadsnakes/ppa/ubuntu bionic InRelease\n",
            "Get:12 http://archive.ubuntu.com/ubuntu bionic-backports InRelease [74.6 kB]\n",
            "Hit:13 http://ppa.launchpad.net/graphics-drivers/ppa/ubuntu bionic InRelease\n",
            "Get:14 http://archive.ubuntu.com/ubuntu bionic-updates/main amd64 Packages [3,262 kB]\n",
            "Fetched 3,514 kB in 4s (980 kB/s)\n",
            "Reading package lists... Done\n"
          ]
        }
      ]
    },
    {
      "cell_type": "code",
      "source": [
        "# Download the Postgres driver that will allow Spark to interact with Postgres.\n",
        "!wget https://jdbc.postgresql.org/download/postgresql-42.2.16.jar"
      ],
      "metadata": {
        "colab": {
          "base_uri": "https://localhost:8080/"
        },
        "id": "SPb1BiS4gpuC",
        "outputId": "91b180dd-960c-4ca1-f124-147925e124b5"
      },
      "execution_count": 2,
      "outputs": [
        {
          "output_type": "stream",
          "name": "stdout",
          "text": [
            "--2022-06-12 01:44:55--  https://jdbc.postgresql.org/download/postgresql-42.2.16.jar\n",
            "Resolving jdbc.postgresql.org (jdbc.postgresql.org)... 72.32.157.228, 2001:4800:3e1:1::228\n",
            "Connecting to jdbc.postgresql.org (jdbc.postgresql.org)|72.32.157.228|:443... connected.\n",
            "HTTP request sent, awaiting response... 200 OK\n",
            "Length: 1002883 (979K) [application/java-archive]\n",
            "Saving to: ‘postgresql-42.2.16.jar.1’\n",
            "\n",
            "postgresql-42.2.16. 100%[===================>] 979.38K  5.98MB/s    in 0.2s    \n",
            "\n",
            "2022-06-12 01:44:55 (5.98 MB/s) - ‘postgresql-42.2.16.jar.1’ saved [1002883/1002883]\n",
            "\n"
          ]
        }
      ]
    },
    {
      "cell_type": "code",
      "source": [
        "from pyspark.sql import SparkSession\n",
        "spark = SparkSession.builder.appName(\"M16-Amazon-Challenge\").config(\"spark.driver.extraClassPath\",\"/content/postgresql-42.2.16.jar\").getOrCreate()"
      ],
      "metadata": {
        "id": "lKGYKRCog2Og"
      },
      "execution_count": 3,
      "outputs": []
    },
    {
      "cell_type": "code",
      "execution_count": 4,
      "metadata": {
        "colab": {
          "base_uri": "https://localhost:8080/"
        },
        "id": "9VsJH3IffXkk",
        "outputId": "6085af27-57a0-4493-e86d-07828d81e73a"
      },
      "outputs": [
        {
          "output_type": "stream",
          "name": "stdout",
          "text": [
            "+-----------+-----------+--------------+----------+--------------+--------------------+----------------+-----------+-------------+-----------+----+-----------------+--------------------+--------------------+-----------+\n",
            "|marketplace|customer_id|     review_id|product_id|product_parent|       product_title|product_category|star_rating|helpful_votes|total_votes|vine|verified_purchase|     review_headline|         review_body|review_date|\n",
            "+-----------+-----------+--------------+----------+--------------+--------------------+----------------+-----------+-------------+-----------+----+-----------------+--------------------+--------------------+-----------+\n",
            "|         US|   37000337|R3DT59XH7HXR9K|B00303FI0G|     529320574|Arthur Court Pape...|         Kitchen|          5|            0|          0|   N|                Y|Beautiful. Looks ...|Beautiful.  Looks...| 2015-08-31|\n",
            "|         US|   15272914|R1LFS11BNASSU8|B00JCZKZN6|     274237558|Olde Thompson Bav...|         Kitchen|          5|            0|          1|   N|                Y| Awesome & Self-ness|I personally have...| 2015-08-31|\n",
            "|         US|   36137863|R296RT05AG0AF6|B00JLIKA5C|     544675303|Progressive Inter...|         Kitchen|          5|            0|          0|   N|                Y|Fabulous and wort...|Fabulous and wort...| 2015-08-31|\n",
            "|         US|   43311049|R3V37XDZ7ZCI3L|B000GBNB8G|     491599489|Zyliss Jumbo Garl...|         Kitchen|          5|            0|          1|   N|                Y|          Five Stars|A must if you lov...| 2015-08-31|\n",
            "|         US|   13763148|R14GU232NQFYX2|B00VJ5KX9S|     353790155|1 X Premier Pizza...|         Kitchen|          5|            0|          0|   N|                Y|     Better than sex|Worth every penny...| 2015-08-31|\n",
            "|         US|   19009420| RZQH4V7L2O1PL|B00HYB5YY0|     432241873|       CHEF Aluminum|         Kitchen|          1|            1|          1|   N|                Y|Does not work on ...|The description s...| 2015-08-31|\n",
            "|         US|   40599388|R1F8JMOSPJ3KO7|B000HEBAV2|     584680984|Presto Dual Profr...|         Kitchen|          5|            0|          0|   N|                Y|Awesome! First fr...|Awesome! First fr...| 2015-08-31|\n",
            "|         US|   22719359|R1ZISGY2BWW4Z5|B0012DS4GG|     772637306|Rubbermaid Produc...|         Kitchen|          5|            0|          0|   N|                Y|          Five Stars|Very good item. Q...| 2015-08-31|\n",
            "|         US|   47478640|R17PW4I3AE5WZW|B00FLQ4EE6|     755416578|Cuisinart 12-Piec...|         Kitchen|          5|            0|          0|   N|                Y|          Five Stars|sharp and look great| 2015-08-31|\n",
            "|         US|   34195504|R3D93G1KTP6A8P|B00DBS9OTG|     648762742|Kegco 6\" Stainles...|         Kitchen|          3|            0|          0|   N|                Y|         Three Stars|Should have come ...| 2015-08-31|\n",
            "|         US|   19100570|R18TQIW1NKPUNU|B00AN9UJ68|     495720940|Cuisinart Smart S...|         Kitchen|          5|            0|          0|   N|                Y|          Five Stars|  my friend loves it| 2015-08-31|\n",
            "|         US|   10299811|R34KUNL21WU248|B00L2P0KNO|      41330497|Searzall Torch At...|         Kitchen|          4|            0|          0|   N|                Y|          Four Stars|works as expected...| 2015-08-31|\n",
            "|         US|   32687006|R2YA1ZA53X12IN|B00NQOJQXY|     191893454|Wilton 1512-1664 ...|         Kitchen|          5|            0|          0|   N|                Y|               great|               great| 2015-08-31|\n",
            "|         US|   43260893|R2ZD1IGC9UU55X|B00080QE1Q|     277442428|Magnalite Classic...|         Kitchen|          5|            1|          1|   N|                Y|         Great Pots!|Fantastic product...| 2015-08-31|\n",
            "|         US|    8067227| R9J2YMVZTUVZ7|B009VU17ZM|     414077276|Sun's Tea(TM) 20o...|         Kitchen|          5|            0|          0|   N|                Y|          Five Stars|Work great, well ...| 2015-08-31|\n",
            "|         US|   18139929|R2UUXJ0WQR0CNI|B00MY71KO2|     138697457|Adventure Time Be...|         Kitchen|          4|            0|          0|   N|                Y|              So big|holds a loooot of...| 2015-08-31|\n",
            "|         US|   12282702|R3S9QICITG73JZ|B00A6N18CK|      48180946|DecoBros 3 Tier D...|         Kitchen|          5|            0|          0|   N|                Y|It looks nice & n...|The DecoBros K cu...| 2015-08-31|\n",
            "|         US|   38649737|R3LISNJHS64PDA|B00AB8NOLS|      67759108|Brita Water Filte...|         Kitchen|          4|            0|          0|   N|                Y|          Four Stars| Met my expectations| 2015-08-31|\n",
            "|         US|   33460969|R28RB82UG4RDD5|B00FB4UPA0|      10711472|Nifty Home 24 K-C...|         Kitchen|          5|           20|         20|   N|                Y| Saves counter space|Fits under my ful...| 2015-08-31|\n",
            "|         US|   40274860|R3H0PRVII5991X|B00YMHBQ0A|     618617346|Eoonfirst Snoopy ...|         Kitchen|          5|            0|          0|   N|                Y|          Five Stars|            Love it!| 2015-08-31|\n",
            "+-----------+-----------+--------------+----------+--------------+--------------------+----------------+-----------+-------------+-----------+----+-----------------+--------------------+--------------------+-----------+\n",
            "only showing top 20 rows\n",
            "\n"
          ]
        }
      ],
      "source": [
        "from pyspark import SparkFiles\n",
        "url = \"https://s3.amazonaws.com/amazon-reviews-pds/tsv/amazon_reviews_us_Kitchen_v1_00.tsv.gz\"\n",
        "spark.sparkContext.addFile(url)\n",
        "df = spark.read.option(\"encoding\", \"UTF-8\").csv(SparkFiles.get(\"amazon_reviews_us_Kitchen_v1_00.tsv.gz\"), sep=\"\\t\", header=True, inferSchema=True)\n",
        "df.show()"
      ]
    },
    {
      "cell_type": "code",
      "source": [
        "# Create the vine_table. DataFrame\n",
        "vine_df = df.select([\"review_id\", \"star_rating\", \"helpful_votes\", \"total_votes\", \"vine\", \"verified_purchase\"])\n",
        "vine_df.show(10)"
      ],
      "metadata": {
        "colab": {
          "base_uri": "https://localhost:8080/"
        },
        "id": "8p4FIhijjOLV",
        "outputId": "8767d9b8-a262-493c-a6ef-89b3bc321af7"
      },
      "execution_count": 5,
      "outputs": [
        {
          "output_type": "stream",
          "name": "stdout",
          "text": [
            "+--------------+-----------+-------------+-----------+----+-----------------+\n",
            "|     review_id|star_rating|helpful_votes|total_votes|vine|verified_purchase|\n",
            "+--------------+-----------+-------------+-----------+----+-----------------+\n",
            "|R3DT59XH7HXR9K|          5|            0|          0|   N|                Y|\n",
            "|R1LFS11BNASSU8|          5|            0|          1|   N|                Y|\n",
            "|R296RT05AG0AF6|          5|            0|          0|   N|                Y|\n",
            "|R3V37XDZ7ZCI3L|          5|            0|          1|   N|                Y|\n",
            "|R14GU232NQFYX2|          5|            0|          0|   N|                Y|\n",
            "| RZQH4V7L2O1PL|          1|            1|          1|   N|                Y|\n",
            "|R1F8JMOSPJ3KO7|          5|            0|          0|   N|                Y|\n",
            "|R1ZISGY2BWW4Z5|          5|            0|          0|   N|                Y|\n",
            "|R17PW4I3AE5WZW|          5|            0|          0|   N|                Y|\n",
            "|R3D93G1KTP6A8P|          3|            0|          0|   N|                Y|\n",
            "+--------------+-----------+-------------+-----------+----+-----------------+\n",
            "only showing top 10 rows\n",
            "\n"
          ]
        }
      ]
    },
    {
      "cell_type": "code",
      "source": [
        "#Filter the data to retrieve all the rows where the total_votes count is equal to or greater than 20\n",
        "moreReviews_df = vine_df.filter(\"total_votes>=20\")\n",
        "moreReviews_df.show(15)"
      ],
      "metadata": {
        "colab": {
          "base_uri": "https://localhost:8080/"
        },
        "id": "QymnhtKXjlAO",
        "outputId": "f0c1e6bb-ff2a-4b76-8b4d-6d1c8aa46028"
      },
      "execution_count": 6,
      "outputs": [
        {
          "output_type": "stream",
          "name": "stdout",
          "text": [
            "+--------------+-----------+-------------+-----------+----+-----------------+\n",
            "|     review_id|star_rating|helpful_votes|total_votes|vine|verified_purchase|\n",
            "+--------------+-----------+-------------+-----------+----+-----------------+\n",
            "|R28RB82UG4RDD5|          5|           20|         20|   N|                Y|\n",
            "|R3FB6BERWPEIJP|          4|           40|         43|   N|                Y|\n",
            "|R1D4Z38STRDQXK|          5|           53|         56|   N|                Y|\n",
            "|R1XMWJZICINIFX|          3|           20|         21|   N|                Y|\n",
            "|R20QKY1GABXFLM|          1|          272|        297|   N|                Y|\n",
            "|R3GZ7CK2O1PPG0|          2|           10|         30|   N|                Y|\n",
            "|R328FA1E6FY3F5|          5|           17|         20|   N|                N|\n",
            "|R3DH22AA5WGLLS|          5|           30|         30|   N|                N|\n",
            "|R1E0E5EFZSLJCS|          1|           66|         80|   N|                Y|\n",
            "|R1TXZQWEHYWEWN|          2|           48|         51|   N|                Y|\n",
            "| RQQAI8YL3UCY2|          5|           23|         25|   N|                Y|\n",
            "|R3PZNAQREFUNJ7|          4|           28|         35|   N|                Y|\n",
            "|R1ZUNUSUEA5D0T|          2|           17|         20|   N|                Y|\n",
            "|R3SHJSHTY8AXKR|          5|           69|         72|   N|                Y|\n",
            "|R2QM1JXA2XI7XA|          3|           61|         68|   N|                Y|\n",
            "+--------------+-----------+-------------+-----------+----+-----------------+\n",
            "only showing top 15 rows\n",
            "\n"
          ]
        }
      ]
    },
    {
      "cell_type": "code",
      "source": [
        "# Retrieve all the rows where the number of helpful_votes divided by total_votes is equal to or greater than 50%\n",
        "helpfulReviews_df = moreReviews_df.filter(\"(helpful_votes/total_votes)>=0.5\")\n",
        "helpfulReviews_df.show(15)"
      ],
      "metadata": {
        "colab": {
          "base_uri": "https://localhost:8080/"
        },
        "id": "1KNDso9pjl7r",
        "outputId": "ff4c9efe-0f5b-4cf0-cd89-a3dd0197444e"
      },
      "execution_count": 7,
      "outputs": [
        {
          "output_type": "stream",
          "name": "stdout",
          "text": [
            "+--------------+-----------+-------------+-----------+----+-----------------+\n",
            "|     review_id|star_rating|helpful_votes|total_votes|vine|verified_purchase|\n",
            "+--------------+-----------+-------------+-----------+----+-----------------+\n",
            "|R28RB82UG4RDD5|          5|           20|         20|   N|                Y|\n",
            "|R3FB6BERWPEIJP|          4|           40|         43|   N|                Y|\n",
            "|R1D4Z38STRDQXK|          5|           53|         56|   N|                Y|\n",
            "|R1XMWJZICINIFX|          3|           20|         21|   N|                Y|\n",
            "|R20QKY1GABXFLM|          1|          272|        297|   N|                Y|\n",
            "|R328FA1E6FY3F5|          5|           17|         20|   N|                N|\n",
            "|R3DH22AA5WGLLS|          5|           30|         30|   N|                N|\n",
            "|R1E0E5EFZSLJCS|          1|           66|         80|   N|                Y|\n",
            "|R1TXZQWEHYWEWN|          2|           48|         51|   N|                Y|\n",
            "| RQQAI8YL3UCY2|          5|           23|         25|   N|                Y|\n",
            "|R3PZNAQREFUNJ7|          4|           28|         35|   N|                Y|\n",
            "|R1ZUNUSUEA5D0T|          2|           17|         20|   N|                Y|\n",
            "|R3SHJSHTY8AXKR|          5|           69|         72|   N|                Y|\n",
            "|R2QM1JXA2XI7XA|          3|           61|         68|   N|                Y|\n",
            "|R1SVJ6XDBCQNSN|          3|           29|         30|   N|                Y|\n",
            "+--------------+-----------+-------------+-----------+----+-----------------+\n",
            "only showing top 15 rows\n",
            "\n"
          ]
        }
      ]
    },
    {
      "cell_type": "code",
      "source": [
        "# Retrieve all the rows where a review was written as part of the Vine program\n",
        "vineReviews_df = helpfulReviews_df.filter(\"vine=='Y'\")\n",
        "vineReviews_df.show(15)"
      ],
      "metadata": {
        "colab": {
          "base_uri": "https://localhost:8080/"
        },
        "id": "ZRL3M7OBmylj",
        "outputId": "25e8a33a-0130-42e1-b7f8-cf1f3d512cc4"
      },
      "execution_count": 8,
      "outputs": [
        {
          "output_type": "stream",
          "name": "stdout",
          "text": [
            "+--------------+-----------+-------------+-----------+----+-----------------+\n",
            "|     review_id|star_rating|helpful_votes|total_votes|vine|verified_purchase|\n",
            "+--------------+-----------+-------------+-----------+----+-----------------+\n",
            "|R1Z71RW4J9IK93|          5|           20|         22|   Y|                N|\n",
            "|R3FVB5QI11KI9Q|          4|          192|        200|   Y|                N|\n",
            "|R2G027YBMVXV6Y|          5|           39|         48|   Y|                N|\n",
            "|R1QGBAN7BMGWRR|          5|          121|        129|   Y|                N|\n",
            "|R2NH2AU7XL9ZDZ|          3|           18|         20|   Y|                N|\n",
            "|R2YVVJ9NOPNX50|          4|           36|         41|   Y|                N|\n",
            "|R1XH1LK1FWX3OS|          4|          214|        238|   Y|                N|\n",
            "|R38LSQ71G2IZGS|          5|           26|         29|   Y|                N|\n",
            "|R2FLITQVKWXDF4|          3|           26|         34|   Y|                N|\n",
            "|R25LMMZF3DJTWY|          2|           18|         21|   Y|                N|\n",
            "|R18NC69T0KEC00|          5|           20|         23|   Y|                N|\n",
            "| ROYYZ0D9LMYS3|          5|           25|         33|   Y|                N|\n",
            "|R223CE6ERRBPRZ|          4|           82|         87|   Y|                N|\n",
            "|R1THPHKHO1BPRZ|          5|           15|         20|   Y|                N|\n",
            "|R11K4PQS62ROLS|          5|           72|         75|   Y|                N|\n",
            "+--------------+-----------+-------------+-----------+----+-----------------+\n",
            "only showing top 15 rows\n",
            "\n"
          ]
        }
      ]
    },
    {
      "cell_type": "code",
      "source": [
        "# Retrieve all the rows where a review was NOT written as part of the Vine program\n",
        "notVineReviews_df = helpfulReviews_df.filter(\"vine=='N'\")\n",
        "notVineReviews_df.show(15)"
      ],
      "metadata": {
        "colab": {
          "base_uri": "https://localhost:8080/"
        },
        "id": "4zKwCgMOm01o",
        "outputId": "4f43fad0-ee4d-4ebe-d235-d90af297bf29"
      },
      "execution_count": 9,
      "outputs": [
        {
          "output_type": "stream",
          "name": "stdout",
          "text": [
            "+--------------+-----------+-------------+-----------+----+-----------------+\n",
            "|     review_id|star_rating|helpful_votes|total_votes|vine|verified_purchase|\n",
            "+--------------+-----------+-------------+-----------+----+-----------------+\n",
            "|R28RB82UG4RDD5|          5|           20|         20|   N|                Y|\n",
            "|R3FB6BERWPEIJP|          4|           40|         43|   N|                Y|\n",
            "|R1D4Z38STRDQXK|          5|           53|         56|   N|                Y|\n",
            "|R1XMWJZICINIFX|          3|           20|         21|   N|                Y|\n",
            "|R20QKY1GABXFLM|          1|          272|        297|   N|                Y|\n",
            "|R328FA1E6FY3F5|          5|           17|         20|   N|                N|\n",
            "|R3DH22AA5WGLLS|          5|           30|         30|   N|                N|\n",
            "|R1E0E5EFZSLJCS|          1|           66|         80|   N|                Y|\n",
            "|R1TXZQWEHYWEWN|          2|           48|         51|   N|                Y|\n",
            "| RQQAI8YL3UCY2|          5|           23|         25|   N|                Y|\n",
            "|R3PZNAQREFUNJ7|          4|           28|         35|   N|                Y|\n",
            "|R1ZUNUSUEA5D0T|          2|           17|         20|   N|                Y|\n",
            "|R3SHJSHTY8AXKR|          5|           69|         72|   N|                Y|\n",
            "|R2QM1JXA2XI7XA|          3|           61|         68|   N|                Y|\n",
            "|R1SVJ6XDBCQNSN|          3|           29|         30|   N|                Y|\n",
            "+--------------+-----------+-------------+-----------+----+-----------------+\n",
            "only showing top 15 rows\n",
            "\n"
          ]
        }
      ]
    },
    {
      "cell_type": "code",
      "source": [
        "# Determine the total number of reviews, the number of 5-star reviews, and the percentage of 5-star reviews for the two types of review (paid vs unpaid).\n",
        "numReviews = vineReviews_df.count()\n",
        "countFiveStarReviews = vineReviews_df.filter(\"star_rating == 5\").count()\n",
        "percentFiveStarVineReviews = countFiveStarReviews/numReviews *100\n",
        "[numReviews, countFiveStarReviews, percentFiveStarVineReviews]"
      ],
      "metadata": {
        "colab": {
          "base_uri": "https://localhost:8080/"
        },
        "id": "n7uD9AkZm36O",
        "outputId": "b014c334-edd9-4581-fdb9-47ede19d2400"
      },
      "execution_count": 10,
      "outputs": [
        {
          "output_type": "execute_result",
          "data": {
            "text/plain": [
              "[1207, 509, 42.17067108533554]"
            ]
          },
          "metadata": {},
          "execution_count": 10
        }
      ]
    },
    {
      "cell_type": "code",
      "source": [
        "# Determine the total number of reviews, the number of 5-star reviews, and the percentage of 5-star reviews for the two types of review (paid vs unpaid).\n",
        "numReviews = notVineReviews_df.count()\n",
        "countFiveStarReviews = notVineReviews_df.filter(\"star_rating == 5\").count()\n",
        "notVinepercentFiveStarReviews = countFiveStarReviews/numReviews *100\n",
        "[numReviews, countFiveStarReviews, notVinepercentFiveStarReviews]"
      ],
      "metadata": {
        "colab": {
          "base_uri": "https://localhost:8080/"
        },
        "id": "i8D-cDA1m5gq",
        "outputId": "3bb9bd39-0d17-4c90-eca7-e95247d7e00d"
      },
      "execution_count": 11,
      "outputs": [
        {
          "output_type": "execute_result",
          "data": {
            "text/plain": [
              "[97839, 45858, 46.87087971054488]"
            ]
          },
          "metadata": {},
          "execution_count": 11
        }
      ]
    }
  ]
}